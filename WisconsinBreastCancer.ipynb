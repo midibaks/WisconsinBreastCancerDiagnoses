{
  "nbformat": 4,
  "nbformat_minor": 0,
  "metadata": {
    "colab": {
      "provenance": [],
      "authorship_tag": "ABX9TyPEJpsWPB40haQ7OvhSirNM",
      "include_colab_link": true
    },
    "kernelspec": {
      "name": "python3",
      "display_name": "Python 3"
    },
    "language_info": {
      "name": "python"
    }
  },
  "cells": [
    {
      "cell_type": "markdown",
      "metadata": {
        "id": "view-in-github",
        "colab_type": "text"
      },
      "source": [
        "<a href=\"https://colab.research.google.com/github/midibaks/WisconsinBreastCancerDiagnoses/blob/main/WisconsinBreastCancer.ipynb\" target=\"_parent\"><img src=\"https://colab.research.google.com/assets/colab-badge.svg\" alt=\"Open In Colab\"/></a>"
      ]
    },
    {
      "cell_type": "code",
      "execution_count": null,
      "metadata": {
        "colab": {
          "base_uri": "https://localhost:8080/"
        },
        "id": "mlmHRE4PNxU6",
        "outputId": "93af8c42-562e-4d6d-f208-9a21e370e615"
      },
      "outputs": [
        {
          "output_type": "stream",
          "name": "stdout",
          "text": [
            "LogisticRegression(C=0.59139)\n",
            "0.9622369878183832\n"
          ]
        }
      ],
      "source": [
        "import pandas as pd\n",
        "from sklearn.preprocessing import LabelEncoder, StandardScaler\n",
        "from sklearn.linear_model import LogisticRegression\n",
        "from sklearn.model_selection import GridSearchCV\n",
        "\n",
        "df = pd.read_csv('wisconsin_breastcancer.csv')\n",
        "\n",
        "df = df.dropna(axis=1)\n",
        "\n",
        "X, y = df.drop('diagnosis', axis=1), df['diagnosis']\n",
        "\n",
        "label_enc = LabelEncoder()\n",
        "y = label_enc.fit_transform(y)\n",
        "\n",
        "scaler = StandardScaler()\n",
        "X_scaled = scaler.fit_transform(X)\n",
        "\n",
        "lr = LogisticRegression()\n",
        "lr_grid = GridSearchCV(lr, {'C': [0.59139, 0.5914, 0.59141]}, scoring='recall', error_score='raise')\n",
        "lr_grid.fit(X_scaled, y)\n",
        "print(lr_grid.best_estimator_)\n",
        "print(lr_grid.best_score_)"
      ]
    }
  ]
}